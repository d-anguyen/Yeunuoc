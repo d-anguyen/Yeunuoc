{
 "cells": [
  {
   "cell_type": "markdown",
   "metadata": {},
   "source": [
    "# Down model về"
   ]
  },
  {
   "cell_type": "code",
   "execution_count": null,
   "metadata": {},
   "outputs": [],
   "source": [
    "import torch\n",
    "use_gpu = True if torch.cuda.is_available() else False\n",
    "\n",
    "# trained on high-quality celebrity faces \"celebA\" dataset\n",
    "# this model outputs 512 x 512 pixel images\n",
    "model = torch.hub.load('facebookresearch/pytorch_GAN_zoo:hub',\n",
    "                       'PGAN', model_name='celebAHQ-256',\n",
    "                       pretrained=True, useGPU=use_gpu)\n",
    "# this model outputs 256 x 256 pixel images\n",
    "# model = torch.hub.load('facebookresearch/pytorch_GAN_zoo:hub',\n",
    "#                        'PGAN', model_name='celebAHQ-256',\n",
    "#                        pretrained=True, useGPU=use_gpu)\n"
   ]
  },
  {
   "cell_type": "markdown",
   "metadata": {},
   "source": [
    "# tạo ra latent vector, vẽ hình"
   ]
  },
  {
   "cell_type": "code",
   "execution_count": null,
   "metadata": {},
   "outputs": [],
   "source": [
    "z = torch.zeros(1,model.config.noiseVectorDim)\n",
    "\n",
    "gen_image = model.test(z)\n",
    "\n",
    "print(gen_image)\n",
    "import matplotlib.pyplot as plt\n",
    "import torchvision\n",
    "grid = torchvision.utils.make_grid(gen_image.clamp(min=-1, max=1), scale_each=True, normalize=True)\n",
    "plt.imshow(grid.permute(1, 2, 0).cpu().numpy())\n",
    "# plt.show()"
   ]
  },
  {
   "cell_type": "code",
   "execution_count": null,
   "metadata": {},
   "outputs": [],
   "source": []
  }
 ],
 "metadata": {
  "kernelspec": {
   "display_name": "Python 3",
   "language": "python",
   "name": "python3"
  },
  "language_info": {
   "codemirror_mode": {
    "name": "ipython",
    "version": 3
   },
   "file_extension": ".py",
   "mimetype": "text/x-python",
   "name": "python",
   "nbconvert_exporter": "python",
   "pygments_lexer": "ipython3",
   "version": "3.7.6"
  }
 },
 "nbformat": 4,
 "nbformat_minor": 4
}
