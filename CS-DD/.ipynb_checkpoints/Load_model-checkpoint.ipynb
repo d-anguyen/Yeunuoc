{
 "cells": [
  {
   "cell_type": "code",
   "execution_count": null,
   "metadata": {
    "scrolled": true
   },
   "outputs": [],
   "source": [
    "from __future__ import print_function\n",
    "import matplotlib.pyplot as plt\n",
    "import os\n",
    "import warnings\n",
    "warnings.filterwarnings('ignore')\n",
    "from include import *\n",
    "from PIL import Image\n",
    "import PIL\n",
    "import pywt\n",
    "import numpy as np\n",
    "import torch\n",
    "import torchvision\n",
    "from torch.autograd import Variable\n",
    "import time\n",
    "\n",
    "\n",
    "\n",
    "GPU = True\n",
    "if GPU == True:\n",
    "    torch.backends.cudnn.enabled = True\n",
    "    torch.backends.cudnn.benchmark = True\n",
    "    dtype = torch.cuda.FloatTensor\n",
    "    os.environ['CUDA_VISIBLE_DEVICES'] = '0'\n",
    "    print(\"num GPUs\",torch.cuda.device_count())\n",
    "    device = 'cuda'\n",
    "    if torch.cuda.device_count()==0:\n",
    "        dtype = torch.FloatTensor\n",
    "        device = 'cpu'\n",
    "else:\n",
    "    dtype = torch.FloatTensor\n",
    "    device = 'cpu'\n"
   ]
  },
  {
   "cell_type": "markdown",
   "metadata": {},
   "source": [
    "# 1. Load a test image from a dataset (now : CelebA 128x128)"
   ]
  },
  {
   "cell_type": "code",
   "execution_count": null,
   "metadata": {},
   "outputs": [],
   "source": [
    "#dataset = 'mnist' # 'mnist' or 'celeba'\n",
    "dataset = 'celeba'\n",
    "path = './test_data/' + dataset + '/' \n",
    "img_name = dataset + '1' # 1-5 (for celeba), 1-6 (for mnist)\n",
    "img_path = path + img_name + \".jpg\"\n",
    "img_pil = Image.open(img_path)\n",
    "if dataset == 'celeba':\n",
    "    #img_pil = img_pil.crop((60,80+20,60+64,80+84)) #crop to 3 x 64 x 64\n",
    "    cx=89\n",
    "    cy=121\n",
    "    img_pil = img_pil.crop((cx-64, cy - 64, cx + 64, cy+64))\n",
    "\n",
    "img_np = pil_to_np(img_pil)\n",
    "print('Dimensions of input image:', img_np.shape)\n",
    "img_np = img_np / np.max(img_np)\n",
    "\n",
    "\n",
    "img_np_orig = 1*img_np\n",
    "\n",
    "if dataset == 'celeba':\n",
    "    plt.imshow(img_np.transpose(1,2,0))\n",
    "else:\n",
    "    plt.imshow(img_np[0,:,:])\n",
    "    plt.gray()\n",
    "plt.axis('off')\n",
    "img_var = np_to_var(img_np).type(dtype)\n",
    "d = img_np.shape[1]\n",
    "out_ch = img_np.shape[0]\n",
    "d_image = img_np.size\n",
    "\n",
    "# normalize the pixels to [-1,1]\n",
    "img_var = 2*img_var -1\n",
    "\n"
   ]
  },
  {
   "cell_type": "markdown",
   "metadata": {},
   "source": [
    "# 2. Compressed sensing using generative models"
   ]
  },
  {
   "cell_type": "markdown",
   "metadata": {},
   "source": [
    "## 2.1. Load a pretrained generative model on the dataset (now: PGGAN)"
   ]
  },
  {
   "cell_type": "code",
   "execution_count": null,
   "metadata": {},
   "outputs": [],
   "source": [
    "use_gpu = True if torch.cuda.is_available() else False\n",
    "\n",
    "# trained on high-quality celebrity faces \"celebA\" dataset\n",
    "# this model outputs 512 x 512 pixel images\n",
    "model = torch.hub.load('facebookresearch/pytorch_GAN_zoo:hub',\n",
    "                       'PGAN', model_name='celeba',\n",
    "                       pretrained=True, useGPU=use_gpu)\n",
    "# this model outputs 256 x 256 pixel images\n",
    "# model = torch.hub.load('facebookresearch/pytorch_GAN_zoo:hub',\n",
    "#                        'PGAN', model_name='celebAHQ-256',\n",
    "#                        pretrained=True, useGPU=use_gpu)\n",
    "G = model.netG\n",
    "G.eval()\n",
    "\n",
    "mse = torch.nn.MSELoss()\n"
   ]
  },
  {
   "cell_type": "markdown",
   "metadata": {},
   "source": [
    "## 2.2. A=I"
   ]
  },
  {
   "cell_type": "code",
   "execution_count": null,
   "metadata": {},
   "outputs": [],
   "source": [
    "def exp_lr_scheduler(optimizer, epoch, init_lr=0.1, lr_decay_epoch=100, factor=0.8):\n",
    "    \"\"\"Decay learning rate by a factor of 0.5 every lr_decay_epoch epochs.\"\"\"\n",
    "    lr = init_lr * (factor**(epoch // lr_decay_epoch))\n",
    "    if epoch % lr_decay_epoch == 0:\n",
    "        print('\\nLR is set to {}'.format(lr))\n",
    "        print('\\n')\n",
    "    for param_group in optimizer.param_groups:\n",
    "        param_group['lr'] = lr\n",
    "    return optimizer"
   ]
  },
  {
   "cell_type": "code",
   "execution_count": null,
   "metadata": {},
   "outputs": [],
   "source": [
    "print(torch.min(img_var), torch.max(img_var))"
   ]
  },
  {
   "cell_type": "code",
   "execution_count": null,
   "metadata": {},
   "outputs": [],
   "source": [
    "#z_hat = fit(G = G, latentDim = model.config.noiseVectorDim, y= img_var, num_iter = 1600, lr_decay_epoch = 400)    \n",
    "z_hat, mse_wrt_truth = CSGM(G=G, \n",
    "             latentDim = model.config.noiseVectorDim, \n",
    "             y=img_var, \n",
    "             x=img_var,\n",
    "             device = device,\n",
    "             num_iter=1600)\n",
    "gen_image = G(z_hat)\n",
    "\n",
    "grid = torchvision.utils.make_grid(gen_image.clamp(min=-1, max=1), scale_each=True, normalize=True)\n",
    "plt.imshow(grid.detach().permute(1, 2, 0).cpu().numpy())\n",
    "\n",
    "plt.show()\n"
   ]
  },
  {
   "cell_type": "code",
   "execution_count": null,
   "metadata": {},
   "outputs": [],
   "source": [
    "plt.xlabel('optimizer iteration')\n",
    "plt.ylabel('recovery error')\n",
    "plt.semilogy(mse_wrt_truth)"
   ]
  },
  {
   "cell_type": "markdown",
   "metadata": {},
   "source": [
    "## 2.3. A= Gaussian "
   ]
  },
  {
   "cell_type": "code",
   "execution_count": null,
   "metadata": {},
   "outputs": [],
   "source": [
    "f = 0.2 #compression rate\n",
    "print('Compression rate is ', f)\n",
    "m_image = int(f*d_image)\n",
    "print('Number of measurements is ',m_image, ' for signal of length ', d_image)\n",
    "\n",
    "# random Gaussian measurement process\n",
    "\n",
    "A = torch.randn(m_image, d_image).to(device)\n",
    "x = img_var.to(device).reshape(d_image)\n",
    "y = torch.matmul(A,x).to(device)\n",
    "\n",
    "#latentDim = model.config.noiseVectorDim\n",
    "print(A.shape, x.shape, y.shape)"
   ]
  },
  {
   "cell_type": "code",
   "execution_count": null,
   "metadata": {},
   "outputs": [],
   "source": [
    "t0= time.time()\n",
    "z_hat, mse_wrt_loss = CSGM2(G, latentDim, y, x, A, device, num_iter = 1600)\n",
    "x_hat = G(z_hat)\n",
    "\n",
    "#x_hat.reshape(x.size(0),x.size(1))\n",
    "grid = torchvision.utils.make_grid(x_hat.clamp(min=-1, max=1), scale_each=True, normalize=True)\n",
    "plt.imshow(grid.detach().permute(1, 2, 0).cpu().numpy())\n",
    "\n",
    "t1= time.time()\n",
    "print('\\ntime elapsed:',t1-t0)"
   ]
  },
  {
   "cell_type": "code",
   "execution_count": null,
   "metadata": {},
   "outputs": [],
   "source": []
  },
  {
   "cell_type": "markdown",
   "metadata": {},
   "source": [
    "# 3. Compressed Sensing using Deep decoder"
   ]
  },
  {
   "cell_type": "markdown",
   "metadata": {},
   "source": [
    "## 3.1. Define the network"
   ]
  },
  {
   "cell_type": "code",
   "execution_count": null,
   "metadata": {},
   "outputs": [],
   "source": [
    "#use decoder architecture or DC GAN architecture\n",
    "decodetype = 'upsample' # transposeconv / upsample\n",
    "\n",
    "num_channels = [120,40,20,15,10] \n",
    "\n",
    "output_depth = img_np.shape[0] # number of output channels\n",
    "net = autoencodernet(num_output_channels=output_depth,num_channels_up=num_channels,need_sigmoid=True, \n",
    "                        decodetype=decodetype\n",
    "                        ).type(dtype)\n",
    "\n",
    "print(\"number of parameters: \", num_param(net))\n",
    "if decodetype == 'upsample':\n",
    "    print(net.decoder)\n",
    "elif decodetype == 'transposeconv':\n",
    "    print(net.convdecoder)\n",
    "net_in = copy.deepcopy(net)\n",
    "\n"
   ]
  },
  {
   "cell_type": "markdown",
   "metadata": {},
   "source": [
    "## 3.2. CS using untrained network"
   ]
  },
  {
   "cell_type": "code",
   "execution_count": null,
   "metadata": {},
   "outputs": [],
   "source": [
    "def fit3(net, num_channels, d_image, y, A, device, num_iter = 12000, lr_decay_epoch = 3000):\n",
    "    # compute the size of (fixed) latent vector and draw it uniformly  \n",
    "    totalupsample = 2**(len(num_channels)-1)\n",
    "    w = np.sqrt(int(d_image/3)) # =d_image / out_channels = số chiều của mỗi cạnh ảnh\n",
    "    width = int(w/(totalupsample))\n",
    "    height = int(w/(totalupsample))\n",
    "\n",
    "    shape = [1,num_channels[0], width, height]  \n",
    "    print(\"shape of latent code B1: \", shape)\n",
    "\n",
    "    print(\"initializing latent code B1...\")\n",
    "    net_input = Variable(torch.zeros(shape))\n",
    "    net_input.data.uniform_()\n",
    "    net_input.data *= 1./10\n",
    "\n",
    "    net_input_saved = net_input.data.clone()\n",
    "    noise = net_input.data.clone()\n",
    "\n",
    "    #x_in = net(net_input.type(dtype)).data.clone() #initializing image\n",
    "\n",
    "    # processing optimization\n",
    "    if decodetype=='upsample':\n",
    "        p = [x for x in net.decoder.parameters() ] #list of all weigths\n",
    "    elif decodetype=='transposeconv':\n",
    "        p = [x for x in net.convdecoder.parameters() ] #list of all weigths\n",
    "\n",
    "    optimizer = torch.optim.Adam(p, lr=0.0002)\n",
    "    mse = torch.nn.MSELoss()\n",
    "    \n",
    "    for i in range(num_iter):\n",
    "\n",
    "        #################\n",
    "        if lr_decay_epoch is not 0:\n",
    "            optimizer = exp_lr_scheduler(optimizer, i, init_lr=0.0002, lr_decay_epoch=lr_decay_epoch,factor=0.8)\n",
    "\n",
    "        #################\n",
    "        def closure():\n",
    "            optimizer.zero_grad()           \n",
    "            x_np = net(net_input.type(dtype)).to(device)\n",
    "            x_var = 2*x_np-1\n",
    "            \n",
    "            #y_var = x_var\n",
    "            y_var = torch.matmul(A,x_var.reshape(d_image))\n",
    "            \n",
    "            loss = mse(y_var, y) #torch.matmul(A,x_hat)\n",
    "            loss.backward()\n",
    "            #mse_wrt_truth[i] = loss.data.cpu().numpy()\n",
    "            \n",
    "            return loss\n",
    "\n",
    "        loss = optimizer.step(closure) \n",
    "        if i %100 == 0:\n",
    "            print ('Iteration %05d   Train loss %f ' % (i, loss.item()))\n",
    "        #print ('Iteration %05d   Train loss %f ' % (i, loss.detach().cpu().numpy()), '\\r', end='')\n",
    "\n",
    "    return net, net_input, loss"
   ]
  },
  {
   "cell_type": "code",
   "execution_count": null,
   "metadata": {},
   "outputs": [],
   "source": [
    "t0 = time.time()\n",
    "\n",
    "net, net_input, loss = fit3(net, num_channels, d_image, y=y, A=A, device= device,\n",
    "                            num_iter = 12000, lr_decay_epoch=3000)\n",
    "x_hat = net( net_input.type(dtype) )#.data.cpu().numpy()[0]\n",
    "\n",
    "t1 = time.time()\n",
    "grid = torchvision.utils.make_grid(x_hat, scale_each=True, normalize=True)\n",
    "plt.imshow(grid.detach().permute(1, 2, 0).cpu().numpy())\n",
    "\n",
    "#plt.imshow(x_hat.transpose(1,2,0))\n",
    "plt.show()\n",
    "\n",
    "print('\\n time elapsed:' t1-t0)\n",
    "\n",
    "save_path= 'DD'+'_'+img_name+'.png'\n",
    "savefig=True\n",
    "if savefig:\n",
    "    plt.savefig(save_path,bbox_inches='tight')"
   ]
  },
  {
   "cell_type": "markdown",
   "metadata": {},
   "source": [
    "# 5. Compressed sensing using hybrid model"
   ]
  },
  {
   "cell_type": "markdown",
   "metadata": {},
   "source": [
    "## 5.1. Define the untrained network used for hybrid model"
   ]
  },
  {
   "cell_type": "code",
   "execution_count": null,
   "metadata": {},
   "outputs": [],
   "source": [
    "#use decoder architecture or DC GAN architecture\n",
    "decodetype = 'upsample' # transposeconv / upsample\n",
    "\n",
    "\n",
    "if dataset == 'mnist':\n",
    "    num_channels = [25,15,10] \n",
    "elif dataset== 'celeba':    \n",
    "    num_channels = [120,40,20,15,10] \n",
    "else:\n",
    "    num_channels = [128,64,32]\n",
    "    \n",
    "output_depth = img_np.shape[0] # number of output channels\n",
    "net = autoencodernet(num_output_channels=output_depth,num_channels_up=num_channels,need_sigmoid=True, \n",
    "                        decodetype=decodetype\n",
    "                        ).type(dtype)\n",
    "\n",
    "print(\"number of parameters: \", num_param(net))\n",
    "if decodetype == 'upsample':\n",
    "    print(net.decoder)\n",
    "elif decodetype == 'transposeconv':\n",
    "    print(net.convdecoder)\n",
    "net_in = copy.deepcopy(net)"
   ]
  },
  {
   "cell_type": "code",
   "execution_count": null,
   "metadata": {},
   "outputs": [],
   "source": [
    "def fit4(G, net, num_channels, d_image, y, z_0, latentDim, num_iter = 1000, lr_decay_epoch = 0):\n",
    "    G.eval()\n",
    "    z = torch.normal(torch.zeros(1,latentDim)) #.to(config.device)\n",
    "    z = Variable(z, requires_grad = True)\n",
    "    \n",
    "    \n",
    "    # compute the size of (fixed) latent vector and draw it uniformly  \n",
    "    totalupsample = 2**(len(num_channels)-1)\n",
    "    w = np.sqrt(int(d_image/3)) # =d_image / out_channels = số chiều của mỗi cạnh ảnh\n",
    "    width = int(w/(totalupsample))\n",
    "    height = int(w/(totalupsample))\n",
    "\n",
    "    shape = [1,num_channels[0], width, height]  \n",
    "    print(\"shape of latent code B1: \", shape)\n",
    "\n",
    "    print(\"initializing latent code B1...\")\n",
    "    net_input = Variable(torch.zeros(shape))\n",
    "    net_input.data.uniform_()\n",
    "    net_input.data *= 1./10\n",
    "\n",
    "    net_input_saved = net_input.data.clone()\n",
    "    noise = net_input.data.clone()\n",
    "    \n",
    "    # collecting all trainable parameters\n",
    "    alpha_init = torch.zeros(1)\n",
    "    beta_init = torch.zeros(1)\n",
    "    alpha_init.data[0] = 0.5\n",
    "    beta_init.data[0] = 0.5\n",
    "\n",
    "    alpha = Variable(alpha_init, requires_grad=True)\n",
    "    beta = Variable(beta_init, requires_grad=True)\n",
    "    \n",
    "    if decodetype=='upsample':\n",
    "        p = [x for x in net.decoder.parameters() ] #list of all weigths\n",
    "    elif decodetype=='transposeconv':\n",
    "        p = [x for x in net.convdecoder.parameters() ] #list of all weigths\n",
    "    \n",
    "    \n",
    "    \n",
    "    #weight_decay = 0\n",
    "    #optimizer = torch.optim.Adam(p, lr=0.001)\n",
    "    \n",
    "    optimizer = torch.optim.Adam(\n",
    "    [\n",
    "        {\"params\": p, \"lr\": 0.0001},\n",
    "        {\"params\": alpha, \"lr\": 0.01},\n",
    "        {\"params\": beta, \"lr\": 0.01},\n",
    "        {\"params\": z, \"lr\": 0.1}\n",
    "    ],\n",
    ")\n",
    "    \n",
    "    mse = torch.nn.MSELoss()\n",
    "    \n",
    "    for i in range(num_iter):\n",
    "\n",
    "        #################\n",
    "        #if lr_decay_epoch is not 0:\n",
    "        #    optimizer = exp_lr_scheduler(optimizer, i, init_lr=0.001, lr_decay_epoch=lr_decay_epoch,factor=0.8)\n",
    "\n",
    "        #################\n",
    "        def closure():\n",
    "            optimizer.zero_grad()           \n",
    "            alpha_clamp = alpha.clamp(0,1)\n",
    "            beta_clamp = beta.clamp(0,1)\n",
    "            \n",
    "            x_var = alpha_clamp*G(z) + beta_clamp*(2*net(net_input.type(dtype))-1)\n",
    "            #y_hat = x_hat\n",
    "            \n",
    "            y_var = torch.matmul(A,x_var.reshape(d_image))\n",
    "            loss = mse(y_var, y) #torch.matmul(A,x_hat)\n",
    "            loss.backward()\n",
    "            #mse_wrt_truth[i] = loss.data.cpu().numpy()\n",
    "            return loss\n",
    "\n",
    "        loss = optimizer.step(closure) \n",
    "        if i % 100 == 0:\n",
    "            print ('Iteration %04d   Train loss %f ' % (i, loss.detach().cpu().numpy()))\n",
    "\n",
    "    return net, net_input, z, alpha, beta, loss"
   ]
  },
  {
   "cell_type": "markdown",
   "metadata": {},
   "source": [
    "## 5.2. Initialization by CSGM"
   ]
  },
  {
   "cell_type": "code",
   "execution_count": null,
   "metadata": {},
   "outputs": [],
   "source": [
    "latentDim = model.config.noiseVectorDim\n",
    "G.eval()\n",
    "z0, mse_wrt_truth = CSGM2(G, latentDim, y, x, A, device, num_iter=600)\n",
    "\n",
    "#x0 = G(z0)\n",
    "\n",
    "grid = torchvision.utils.make_grid(x0.clamp(min=-1, max=1), scale_each=True, normalize=True)\n",
    "plt.axis('off')\n",
    "plt.imshow(grid.detach().permute(1, 2, 0).cpu().numpy())\n",
    "\n",
    "save_path= 'PGGAN'+'_'+img_name+'.png'\n",
    "savefig=True\n",
    "if savefig:\n",
    "    plt.savefig(save_path,bbox_inches='tight')"
   ]
  },
  {
   "cell_type": "markdown",
   "metadata": {},
   "source": [
    "## 5.3. CS using hybrid model"
   ]
  },
  {
   "cell_type": "code",
   "execution_count": null,
   "metadata": {},
   "outputs": [],
   "source": [
    "net, net_input, z, alpha, beta, loss = fit4(G, net, num_channels, d_image, y, z_0 = z0, \n",
    "                                            #latentDim=latentDim, num_iter = 1000, lr_decay_epoch = 0)\n",
    "\n",
    "x_hat = alpha.clamp(0,1)*G(z) + beta.clamp(0,1)*(2*net(net_input.type(dtype)) - 1)\n",
    "\n",
    "print(alpha,beta)\n",
    "\n",
    "grid = torchvision.utils.make_grid(img_var, scale_each=True, normalize=True)\n",
    "plt.imshow(grid.detach().permute(1, 2, 0).cpu().numpy())\n",
    "#plt.imshow(x_hat_np.transpose(1,2,0))\n",
    "#plt.show()\n",
    "save_path= 'Hybrid'+'_'+img_name+'.png'\n",
    "savefig=True\n",
    "if savefig:\n",
    "    plt.savefig(save_path,bbox_inches='tight') "
   ]
  },
  {
   "cell_type": "code",
   "execution_count": null,
   "metadata": {},
   "outputs": [],
   "source": []
  },
  {
   "cell_type": "code",
   "execution_count": null,
   "metadata": {},
   "outputs": [],
   "source": [
    "z = torch.normal(torch.zeros(1,latentDim)) #.to(config.device)\n",
    "z = Variable(z, requires_grad = True)\n",
    "\n",
    "\n",
    "# compute the size of (fixed) latent vector and draw it uniformly  \n",
    "totalupsample = 2**(len(num_channels)-1)\n",
    "w = np.sqrt(int(d_image/3)) # =d_image / out_channels = số chiều của mỗi cạnh ảnh\n",
    "width = int(w/(totalupsample))\n",
    "height = int(w/(totalupsample))\n",
    "\n",
    "shape = [1,num_channels[0], width, height]  \n",
    "print(\"shape of latent code B1: \", shape)\n",
    "\n",
    "print(\"initializing latent code B1...\")\n",
    "net_input = Variable(torch.zeros(shape))\n",
    "net_input.data.uniform_()\n",
    "net_input.data *= 1./20\n",
    "\n",
    "net_input_saved = net_input.data.clone()\n",
    "noise = net_input.data.clone()\n",
    "\n",
    "# collecting all trainable parameters\n",
    "alpha_init = torch.zeros(1)\n",
    "beta_init = torch.zeros(1)\n",
    "alpha_init.data[0] = 0.5\n",
    "beta_init.data[0] = 0.5\n",
    "\n",
    "alpha = Variable(alpha_init, requires_grad=True)\n",
    "beta = Variable(beta_init, requires_grad=True)\n",
    "\n",
    "\n",
    "if decodetype=='upsample':\n",
    "    p = [x for x in net.decoder.parameters() ] #list of all weigths\n",
    "elif decodetype=='transposeconv':\n",
    "    p = [x for x in net.convdecoder.parameters() ] #list of all weigths\n",
    "\n",
    "\n",
    "\n",
    "#weight_decay = 0\n",
    "#optimizer = torch.optim.Adam(p, lr=0.001)\n",
    "\n",
    "optimizer = torch.optim.Adam(\n",
    "[\n",
    "    {\"params\": p, \"lr\": 0.0001},\n",
    "    {\"params\": alpha, \"lr\": 0.01},\n",
    "    {\"params\": beta, \"lr\": 0.01},\n",
    "    {\"params\": z, \"lr\": 0.1}\n",
    "],\n",
    ")\n",
    "\n",
    "mse = torch.nn.MSELoss()\n",
    "\n",
    "for i in range(1000):\n",
    "\n",
    "    #################\n",
    "    #if lr_decay_epoch is not 0:\n",
    "    #    optimizer = exp_lr_scheduler(optimizer, i, init_lr=0.001, lr_decay_epoch=lr_decay_epoch,factor=0.8)\n",
    "\n",
    "    #################\n",
    "    def closure():\n",
    "        optimizer.zero_grad()           \n",
    "        alpha_clamp = alpha.clamp(0,1).item()\n",
    "        beta_clamp = beta.clamp(0,1).item()\n",
    "\n",
    "        x_hat = alpha_clamp*G(z) + beta_clamp*(2*net(net_input.type(dtype))-1)\n",
    "        y_hat = x_hat\n",
    "        #y_hat = torch.matmul(A,x_hat.reshape(d_image))\n",
    "        loss = mse(x_hat, img_var) #torch.matmul(A,x_hat)\n",
    "        loss.backward()\n",
    "        #mse_wrt_truth[i] = loss.data.cpu().numpy()\n",
    "        return loss\n",
    "\n",
    "    loss = optimizer.step(closure) \n",
    "\n",
    "    print ('Iteration %05d   Train loss %f ' % (i, loss.detach().cpu().numpy()), '\\r', end='')"
   ]
  },
  {
   "cell_type": "code",
   "execution_count": null,
   "metadata": {},
   "outputs": [],
   "source": [
    "print(alpha.clamp(0,1),beta.clamp(0,1))\n",
    "print(torch.min(img_var), torch.max(img_var))"
   ]
  },
  {
   "cell_type": "code",
   "execution_count": null,
   "metadata": {},
   "outputs": [],
   "source": [
    "x_hat = alpha.clamp(0,1)*G(z) + beta.clamp(0,1)*(2*net(net_input.type(dtype)) - 1)\n",
    "x_hat_np = x_hat.data.cpu().numpy()[0]\n",
    "grid = torchvision.utils.make_grid(img_var, scale_each=True, normalize=True)\n",
    "plt.imshow(grid.detach().permute(1, 2, 0).cpu().numpy())\n",
    "#plt.imshow(x_hat_np.transpose(1,2,0))\n",
    "plt.show()\n"
   ]
  },
  {
   "cell_type": "code",
   "execution_count": null,
   "metadata": {},
   "outputs": [],
   "source": [
    "A = torch.randn(2,3).to(device)"
   ]
  },
  {
   "cell_type": "code",
   "execution_count": null,
   "metadata": {},
   "outputs": [],
   "source": [
    "print(A)"
   ]
  },
  {
   "cell_type": "code",
   "execution_count": null,
   "metadata": {},
   "outputs": [],
   "source": []
  }
 ],
 "metadata": {
  "kernelspec": {
   "display_name": "Python 3",
   "language": "python",
   "name": "python3"
  },
  "language_info": {
   "codemirror_mode": {
    "name": "ipython",
    "version": 3
   },
   "file_extension": ".py",
   "mimetype": "text/x-python",
   "name": "python",
   "nbconvert_exporter": "python",
   "pygments_lexer": "ipython3",
   "version": "3.7.6"
  }
 },
 "nbformat": 4,
 "nbformat_minor": 4
}
