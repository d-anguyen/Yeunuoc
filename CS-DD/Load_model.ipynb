{
 "cells": [
  {
   "cell_type": "markdown",
   "metadata": {},
   "source": []
  },
  {
   "cell_type": "code",
   "execution_count": 1,
   "metadata": {
    "scrolled": true
   },
   "outputs": [
    {
     "name": "stdout",
     "output_type": "stream",
     "text": [
      "num GPUs 0\n"
     ]
    }
   ],
   "source": [
    "from __future__ import print_function\n",
    "import matplotlib.pyplot as plt\n",
    "import os\n",
    "import warnings\n",
    "warnings.filterwarnings('ignore')\n",
    "from include import *\n",
    "from PIL import Image\n",
    "import PIL\n",
    "import pywt\n",
    "import numpy as np\n",
    "import torch\n",
    "import torch.optim as optim\n",
    "import torchvision\n",
    "from torch.autograd import Variable\n",
    "from sklearn import linear_model\n",
    "from scipy.fftpack import dct\n",
    "from scipy.fftpack import idct\n",
    "from scipy import io as sio \n",
    "import time\n",
    "\n",
    "\n",
    "\n",
    "GPU = True\n",
    "if GPU == True:\n",
    "    torch.backends.cudnn.enabled = True\n",
    "    torch.backends.cudnn.benchmark = True\n",
    "    dtype = torch.cuda.FloatTensor\n",
    "    os.environ['CUDA_VISIBLE_DEVICES'] = '0'\n",
    "    print(\"num GPUs\",torch.cuda.device_count())\n",
    "    device = 'cuda'\n",
    "    if torch.cuda.device_count()==0:\n",
    "        dtype = torch.FloatTensor\n",
    "        device = 'cpu'\n",
    "else:\n",
    "    dtype = torch.FloatTensor\n",
    "    device = 'cpu'\n"
   ]
  },
  {
   "cell_type": "markdown",
   "metadata": {},
   "source": [
    "# 1. Load an test image from a dataset (now : CelebA 128x128)"
   ]
  },
  {
   "cell_type": "code",
   "execution_count": 2,
   "metadata": {},
   "outputs": [
    {
     "name": "stdout",
     "output_type": "stream",
     "text": [
      "Dimensions of input image: (3, 64, 64)\n"
     ]
    },
    {
     "data": {
      "image/png": "[encoded data removed]",
      "text/plain": [
       "<Figure size 432x288 with 1 Axes>"
      ]
     },
     "metadata": {
      "needs_background": "light"
     },
     "output_type": "display_data"
    }
   ],
   "source": [
    "#dataset = 'mnist' # 'mnist' or 'celeba'\n",
    "dataset = 'celeba'\n",
    "path = './test_data/' + dataset + '/' \n",
    "img_name = dataset + '1' # 1-5 (for celeba), 1-6 (for mnist)\n",
    "img_path = path + img_name + \".jpg\"\n",
    "img_pil = Image.open(img_path)\n",
    "if dataset == 'celeba':\n",
    "    img_pil = img_pil.crop((60,80+20,60+64,80+84)) #crop to 3 x 64 x 64\n",
    "img_np = pil_to_np(img_pil)\n",
    "print('Dimensions of input image:', img_np.shape)\n",
    "img_np = img_np / np.max(img_np)\n",
    "img_np_orig = 1*img_np\n",
    "\n",
    "if dataset == 'celeba':\n",
    "    plt.imshow(img_np.transpose(1,2,0))\n",
    "else:\n",
    "    plt.imshow(img_np[0,:,:])\n",
    "    plt.gray()\n",
    "plt.axis('off')\n",
    "img_var = np_to_var(img_np).type(dtype)\n",
    "d = img_np.shape[1]\n",
    "out_ch = img_np.shape[0]\n",
    "d_image = img_np.size\n",
    "\n",
    "G0 = img_var"
   ]
  },
  {
   "cell_type": "markdown",
   "metadata": {},
   "source": [
    "# 2. Compressed sensing using generative models"
   ]
  },
  {
   "cell_type": "markdown",
   "metadata": {},
   "source": [
    "## 2.1. Load a pretrained generative model on the dataset (now: PGGAN)"
   ]
  },
  {
   "cell_type": "code",
   "execution_count": null,
   "metadata": {},
   "outputs": [],
   "source": [
    "use_gpu = True if torch.cuda.is_available() else False\n",
    "\n",
    "# trained on high-quality celebrity faces \"celebA\" dataset\n",
    "# this model outputs 512 x 512 pixel images\n",
    "model = torch.hub.load('facebookresearch/pytorch_GAN_zoo:hub',\n",
    "                       'PGAN', model_name='celeba',\n",
    "                       pretrained=True, useGPU=use_gpu)\n",
    "# this model outputs 256 x 256 pixel images\n",
    "# model = torch.hub.load('facebookresearch/pytorch_GAN_zoo:hub',\n",
    "#                        'PGAN', model_name='celebAHQ-256',\n",
    "#                        pretrained=True, useGPU=use_gpu)\n",
    "G = model.netG\n",
    "mse = torch.nn.MSELoss()"
   ]
  },
  {
   "cell_type": "markdown",
   "metadata": {},
   "source": [
    "## 2.2. A=I"
   ]
  },
  {
   "cell_type": "code",
   "execution_count": null,
   "metadata": {},
   "outputs": [],
   "source": [
    "#G0 = G(torch.zeros(1,model.config.noiseVectorDim))\n",
    "\n",
    "def exp_lr_scheduler(optimizer, epoch, init_lr=0.05, lr_decay_epoch=100, factor=0.7):\n",
    "    \"\"\"Decay learning rate by a factor of 0.5 every lr_decay_epoch epochs.\"\"\"\n",
    "    lr = init_lr * (factor**(epoch // lr_decay_epoch))\n",
    "    if epoch % lr_decay_epoch == 0:\n",
    "        print('\\nLR is set to {}'.format(lr))\n",
    "        print('\\n')\n",
    "    for param_group in optimizer.param_groups:\n",
    "        param_group['lr'] = lr\n",
    "    return optimizer\n",
    "\n",
    "def fit(G, num_iter = 2000, lr_decay_epoch = 200):\n",
    "    z = Variable(torch.randn(1,model.config.noiseVectorDim), requires_grad = True)\n",
    "    optimizer = optim.Adam([z])\n",
    "    for i in range(num_iter):\n",
    "        #################\n",
    "        if lr_decay_epoch is not 0:\n",
    "            optimizer = exp_lr_scheduler(optimizer, i, init_lr=0.1, lr_decay_epoch=lr_decay_epoch, factor=0.8)\n",
    "            \n",
    "        #################\n",
    "        def closure():\n",
    "            optimizer.zero_grad()           \n",
    "            x = G(z)\n",
    "            loss = mse(x, G0)\n",
    "            loss.backward(retain_graph=True)\n",
    "            if i % 10 == 0:\n",
    "                print('loss = {}'.format(loss))\n",
    "            return loss\n",
    "\n",
    "        loss = optimizer.step(closure)\n",
    "    print('done')\n",
    "    print('loss = {}'.format(loss))\n",
    "    #print(z)\n",
    "    return z"
   ]
  },
  {
   "cell_type": "code",
   "execution_count": null,
   "metadata": {},
   "outputs": [],
   "source": [
    "z_hat = fit(G = G, num_iter = 500, lr_decay_epoch = 100)    \n",
    "    \n",
    "gen_image = G(z_hat)\n",
    "\n",
    "\n",
    "\n",
    "grid = torchvision.utils.make_grid(gen_image.clamp(min=-1, max=1), scale_each=True, normalize=True)\n",
    "plt.imshow(grid.detach().permute(1, 2, 0).cpu().numpy())\n",
    "\n",
    "#print(gen_image-G0)"
   ]
  },
  {
   "cell_type": "markdown",
   "metadata": {},
   "source": [
    "## 2.3. A= Gaussian "
   ]
  },
  {
   "cell_type": "code",
   "execution_count": null,
   "metadata": {},
   "outputs": [],
   "source": [
    "d_image = G0.numel()\n",
    "\n",
    "f = 0.2 #compression rate\n",
    "print('Compression rate is ', f)\n",
    "m_image = int(f*d_image)\n",
    "print('Number of measurements is ',m_image, ' for signal of length ', d_image)\n",
    "\n",
    "\n",
    "# random Gaussian measurement matrix : A\n",
    "\n",
    "A = torch.randn(m_image, d_image)\n",
    "x = G0.reshape(d_image)\n",
    "y = torch.matmul(A,x)\n",
    "latentDim = model.config.noiseVectorDim\n",
    "\n",
    "def fit2(G,A,y, d_image, latentDim, num_iter = 2000, lr_decay_epoch = 200):\n",
    "    z = Variable(torch.randn(1,latentDim), requires_grad = True)\n",
    "    \n",
    "    optimizer = optim.Adam([z])\n",
    "    for i in range(num_iter):\n",
    "        ############\n",
    "        if lr_decay_epoch is not 0:\n",
    "            optimizer = exp_lr_scheduler(optimizer, i, init_lr=0.1, lr_decay_epoch = lr_decay_epoch, factor = 0.7)\n",
    "        ############\n",
    "        \n",
    "        def closure():\n",
    "            optimizer.zero_grad()\n",
    "            \n",
    "            x_var = G(z).reshape(d_image)\n",
    "            y_var = torch.matmul(A,x_var)\n",
    "            loss = mse(y_var, y)\n",
    "            \n",
    "            loss.backward(retain_graph = True)\n",
    "            if i % lr_decay_epoch == 0:\n",
    "                print('loss = {}'.format(loss))\n",
    "            return loss\n",
    "        \n",
    "        loss = optimizer.step(closure)\n",
    "    return z\n",
    "\n"
   ]
  },
  {
   "cell_type": "code",
   "execution_count": null,
   "metadata": {},
   "outputs": [],
   "source": [
    "z = fit2(G, A, y, num_iter = 2000, lr_decay_epoch = 200)\n",
    "x_hat = G(z)\n",
    "\n",
    "#x_hat.reshape(x.size(0),x.size(1))\n",
    "grid = torchvision.utils.make_grid(x_hat.clamp(min=-1, max=1), scale_each=True, normalize=True)\n",
    "plt.imshow(grid.detach().permute(1, 2, 0).cpu().numpy())"
   ]
  },
  {
   "cell_type": "markdown",
   "metadata": {},
   "source": [
    "# 4. Compressed Sensing using Deep decoder"
   ]
  },
  {
   "cell_type": "markdown",
   "metadata": {},
   "source": [
    "## 4.1. Define the network"
   ]
  },
  {
   "cell_type": "code",
   "execution_count": 3,
   "metadata": {},
   "outputs": [
    {
     "name": "stdout",
     "output_type": "stream",
     "text": [
      "n_scales= 4 num_channels_up= [120, 30, 20, 10]\n",
      "number of parameters:  9710\n",
      "Sequential(\n",
      "  (dconv0): Sequential(\n",
      "    (0): ReflectionPad2d((0, 0, 0, 0))\n",
      "    (1): Conv2d(120, 30, kernel_size=(1, 1), stride=(1, 1), bias=False)\n",
      "  )\n",
      "  (drelu0): ReLU()\n",
      "  (dbn0): BatchNorm2d(30, eps=1e-05, momentum=0.1, affine=True, track_running_stats=True)\n",
      "  (dups0): Upsample(scale_factor=2.0, mode=bilinear)\n",
      "  (dconv1): Sequential(\n",
      "    (0): ReflectionPad2d((0, 0, 0, 0))\n",
      "    (1): Conv2d(30, 20, kernel_size=(1, 1), stride=(1, 1), bias=False)\n",
      "  )\n",
      "  (drelu1): ReLU()\n",
      "  (dbn1): BatchNorm2d(20, eps=1e-05, momentum=0.1, affine=True, track_running_stats=True)\n",
      "  (dups1): Upsample(scale_factor=2.0, mode=bilinear)\n",
      "  (dconv2): Sequential(\n",
      "    (0): ReflectionPad2d((0, 0, 0, 0))\n",
      "    (1): Conv2d(20, 10, kernel_size=(1, 1), stride=(1, 1), bias=False)\n",
      "  )\n",
      "  (drelu2): ReLU()\n",
      "  (dbn2): BatchNorm2d(10, eps=1e-05, momentum=0.1, affine=True, track_running_stats=True)\n",
      "  (dups2): Upsample(scale_factor=2.0, mode=bilinear)\n",
      "  (dconv3): Sequential(\n",
      "    (0): ReflectionPad2d((0, 0, 0, 0))\n",
      "    (1): Conv2d(10, 3, kernel_size=(1, 1), stride=(1, 1), bias=False)\n",
      "  )\n",
      "  (sig): Sigmoid()\n",
      ")\n"
     ]
    }
   ],
   "source": [
    "#use decoder architecture or DC GAN architecture\n",
    "decodetype = 'upsample' # transposeconv / upsample\n",
    "\n",
    "\n",
    "if dataset == 'mnist':\n",
    "    num_channels = [25,15,10] \n",
    "elif dataset== 'celeba':    \n",
    "    num_channels = [120,30,20,10] \n",
    "else:\n",
    "    num_channels = [128,64,32]\n",
    "    \n",
    "output_depth = img_np.shape[0] # number of output channels\n",
    "net = autoencodernet(num_output_channels=output_depth,num_channels_up=num_channels,need_sigmoid=True, \n",
    "                        decodetype=decodetype\n",
    "                        ).type(dtype)\n",
    "\n",
    "print(\"number of parameters: \", num_param(net))\n",
    "if decodetype == 'upsample':\n",
    "    print(net.decoder)\n",
    "elif decodetype == 'transposeconv':\n",
    "    print(net.convdecoder)\n",
    "net_in = copy.deepcopy(net)\n",
    "\n"
   ]
  },
  {
   "cell_type": "code",
   "execution_count": 4,
   "metadata": {},
   "outputs": [],
   "source": [
    "if decodetype=='upsample':\n",
    "    p = [x for x in net.decoder.parameters() ] #list of all weigths\n",
    "elif decodetype=='transposeconv':\n",
    "    p = [x for x in net.convdecoder.parameters() ] #list of all weigths\n",
    "\n",
    "weight_decay = 0\n",
    "optimizer = torch.optim.Adam(p, lr=0.001 ,weight_decay=weight_decay)"
   ]
  },
  {
   "cell_type": "markdown",
   "metadata": {},
   "source": [
    "## 4.2. A=I using untrained network"
   ]
  },
  {
   "cell_type": "code",
   "execution_count": 5,
   "metadata": {},
   "outputs": [],
   "source": [
    "def exp_lr_scheduler(optimizer, epoch, init_lr=0.001, lr_decay_epoch=500, factor=0.5):\n",
    "    \"\"\"Decay learning rate by a factor of 0.1 every lr_decay_epoch epochs.\"\"\"\n",
    "    lr = init_lr * (factor**(epoch // lr_decay_epoch))\n",
    "    if epoch % lr_decay_epoch == 0:\n",
    "        print('\\nLearning rate is set to {}'.format(lr))\n",
    "        print('\\n')\n",
    "    for param_group in optimizer.param_groups:\n",
    "        param_group['lr'] = lr\n",
    "    return optimizer\n",
    "\n",
    "def fit3(net, num_channels, d_image, y, A, num_iter = 100, lr_decay_epoch = 50):\n",
    "    # compute the size of (fixed) latent vector and draw it uniformly  \n",
    "    totalupsample = 2**(len(num_channels)-1)\n",
    "    w = np.sqrt(int(d_image/3)) # =d_image / out_channels = số chiều của mỗi cạnh ảnh\n",
    "    width = int(w/(totalupsample))\n",
    "    height = int(w/(totalupsample))\n",
    "\n",
    "    shape = [1,num_channels[0], width, height]  \n",
    "    print(\"shape of latent code B1: \", shape)\n",
    "\n",
    "    print(\"initializing latent code B1...\")\n",
    "    net_input = Variable(torch.zeros(shape))\n",
    "    net_input.data.uniform_()\n",
    "    net_input.data *= 1./10\n",
    "\n",
    "    net_input_saved = net_input.data.clone()\n",
    "    noise = net_input.data.clone()\n",
    "\n",
    "    #x_in = net(net_input.type(dtype)).data.clone() #initializing image\n",
    "\n",
    "    mse = torch.nn.MSELoss()\n",
    "    optimizer = torch.optim.Adam(p, lr=0.001 ,weight_decay=weight_decay)\n",
    "    \n",
    "    for i in range(num_iter):\n",
    "\n",
    "        #################\n",
    "        if lr_decay_epoch is not 0:\n",
    "            optimizer = exp_lr_scheduler(optimizer, i, init_lr=0.0001, lr_decay_epoch=lr_decay_epoch,factor=0.8)\n",
    "\n",
    "        #################\n",
    "        def closure():\n",
    "            optimizer.zero_grad()           \n",
    "            x_hat = net(net_input.type(dtype))\n",
    "            \n",
    "            y_hat = torch.matmul(A,x_hat.reshape(d_image))\n",
    "            loss = mse(y_hat, y) #torch.matmul(A,x_hat)\n",
    "            loss.backward()\n",
    "            #mse_wrt_truth[i] = loss.data.cpu().numpy()\n",
    "            return loss\n",
    "\n",
    "        loss = optimizer.step(closure) \n",
    "\n",
    "        print ('Iteration %05d   Train loss %f ' % (i, loss.detach().cpu().numpy()), '\\r', end='')\n",
    "\n",
    "    return net, net_input, loss"
   ]
  },
  {
   "cell_type": "code",
   "execution_count": 7,
   "metadata": {},
   "outputs": [
    {
     "name": "stdout",
     "output_type": "stream",
     "text": [
      "Compression rate is  0.2\n",
      "Number of measurements is  2457  for signal of length  12288\n",
      "torch.Size([2457])\n"
     ]
    }
   ],
   "source": [
    "f = 0.2 #compression rate\n",
    "print('Compression rate is ', f)\n",
    "m_image = int(f*d_image)\n",
    "print('Number of measurements is ',m_image, ' for signal of length ', d_image)\n",
    "\n",
    "\n",
    "A = torch.randn(m_image, d_image)\n",
    "x = img_var.reshape(d_image)\n",
    "y = torch.matmul(A,x)\n",
    "print(y.shape)"
   ]
  },
  {
   "cell_type": "code",
   "execution_count": 8,
   "metadata": {},
   "outputs": [
    {
     "name": "stdout",
     "output_type": "stream",
     "text": [
      "shape of latent code B1:  [1, 120, 8, 8]\n",
      "initializing latent code B1...\n",
      "Iteration 01999   Train loss 11.538808    \r"
     ]
    },
    {
     "data": {
      "image/png": "[encoded data removed]",
      "text/plain": [
       "<Figure size 432x288 with 1 Axes>"
      ]
     },
     "metadata": {
      "needs_background": "light"
     },
     "output_type": "display_data"
    }
   ],
   "source": [
    "net, net_input, loss = fit3(net, num_channels, d_image, y=y, A = A, num_iter = 2000, lr_decay_epoch=0)\n",
    "x_hat = net( net_input.type(dtype) ).data.cpu().numpy()[0]\n",
    "\n",
    "plt.imshow(x_hat.transpose(1,2,0))\n",
    "plt.show()"
   ]
  },
  {
   "cell_type": "markdown",
   "metadata": {},
   "source": [
    "## 4.3. A=Gaussian using untrained network"
   ]
  },
  {
   "cell_type": "markdown",
   "metadata": {},
   "source": [
    "# 5. Compressed sensing using hybrid model"
   ]
  },
  {
   "cell_type": "code",
   "execution_count": null,
   "metadata": {},
   "outputs": [],
   "source": [
    "## 5.1. Define hybrid model"
   ]
  }
 ],
 "metadata": {
  "kernelspec": {
   "display_name": "Python 3",
   "language": "python",
   "name": "python3"
  },
  "language_info": {
   "codemirror_mode": {
    "name": "ipython",
    "version": 3
   },
   "file_extension": ".py",
   "mimetype": "text/x-python",
   "name": "python",
   "nbconvert_exporter": "python",
   "pygments_lexer": "ipython3",
   "version": "3.7.6"
  }
 },
 "nbformat": 4,
 "nbformat_minor": 4
}
