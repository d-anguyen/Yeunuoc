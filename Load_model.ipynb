{
 "cells": [
  {
   "cell_type": "code",
   "execution_count": null,
   "metadata": {},
   "outputs": [],
   "source": [
    "import torch\n",
    "import matplotlib.pyplot as plt\n",
    "import torchvision\n",
    "from torch.autograd import Variable\n",
    "import torch.optim as optim\n",
    "\n",
    "use_gpu = True if torch.cuda.is_available() else False\n",
    "\n",
    "# trained on high-quality celebrity faces \"celebA\" dataset\n",
    "# this model outputs 512 x 512 pixel images\n",
    "model = torch.hub.load('facebookresearch/pytorch_GAN_zoo:hub',\n",
    "                       'PGAN', model_name='celeba',\n",
    "                       pretrained=True, useGPU=use_gpu)\n",
    "# this model outputs 256 x 256 pixel images\n",
    "# model = torch.hub.load('facebookresearch/pytorch_GAN_zoo:hub',\n",
    "#                        'PGAN', model_name='celebAHQ-256',\n",
    "#                        pretrained=True, useGPU=use_gpu)\n"
   ]
  },
  {
   "cell_type": "markdown",
   "metadata": {},
   "source": [
    "# Construct latent vector z. Compute and visualize G(z)"
   ]
  },
  {
   "cell_type": "code",
   "execution_count": null,
   "metadata": {},
   "outputs": [],
   "source": [
    "G = model.netG\n",
    "z = torch.zeros(1,model.config.noiseVectorDim)\n",
    "gen_image = G(z)\n",
    "\n",
    "\n",
    "grid = torchvision.utils.make_grid(gen_image.clamp(min=-1, max=1), scale_each=True, normalize=True)\n",
    "plt.imshow(grid.detach().permute(1, 2, 0).cpu().numpy())\n",
    "# plt.show()"
   ]
  },
  {
   "cell_type": "markdown",
   "metadata": {},
   "source": [
    "# Compressed Sensing "
   ]
  },
  {
   "cell_type": "markdown",
   "metadata": {},
   "source": [
    "## Using Gradient Descent"
   ]
  },
  {
   "cell_type": "code",
   "execution_count": null,
   "metadata": {},
   "outputs": [],
   "source": [
    "G = model.netG\n",
    "mse = torch.nn.MSELoss()\n",
    "\n",
    "G0 = G(torch.zeros(1,model.config.noiseVectorDim))\n",
    "d_image = G0.numel()\n",
    "x = G0.reshape(d_image)\n",
    "\n",
    "f = 0.2 #compression rate\n",
    "print('Compression rate is ', f)\n",
    "m_image = int(f*d_image)\n",
    "print('Number of measurements is ',m_image, ' for signal of length ', d_image)\n",
    "\n",
    "\n",
    "# random Gaussian measurement matrix : A\n",
    "A = torch.randn(m_image, d_image)\n",
    "y = torch.matmul(A,x)\n",
    "\n",
    "# optimization min ||AG(z)-AG0||\n",
    "z = Variable(torch.randn(1,model.config.noiseVectorDim), requires_grad = True)\n",
    "optimizer = optim.Adam([z], lr=0.09)\n",
    "for t in range(10):\n",
    "    print('-' * 50)\n",
    "    optimizer.zero_grad()\n",
    "    x_var = G(z).reshape(d_image)\n",
    "    y_var = torch.matmul(A,x_var)\n",
    "    loss = mse(y_var, y)\n",
    "    print(t, loss)\n",
    "    loss.backward(retain_graph=True)\n",
    "    optimizer.step()\n",
    "print('end epoch')\n",
    "\n",
    "x_hat = G(z)\n",
    "#x_hat.reshape(x.size(0),x.size(1))\n",
    "grid = torchvision.utils.make_grid(x_hat.clamp(min=-1, max=1), scale_each=True, normalize=True)\n",
    "plt.imshow(grid.detach().permute(1, 2, 0).cpu().numpy())\n",
    "# plt.show()\n",
    "#print(Ameas.shape)\n",
    "# measurements : y = A*x\n",
    "#img_var_meas = torch.matmul(Ameas_var,img_var.to(device).reshape(d_image,1))\n",
    "\n"
   ]
  },
  {
   "cell_type": "markdown",
   "metadata": {},
   "source": [
    "## Using Projected GD"
   ]
  },
  {
   "cell_type": "code",
   "execution_count": null,
   "metadata": {},
   "outputs": [],
   "source": [
    "G = model.netG\n",
    "mse = torch.nn.MSELoss()\n",
    "\n",
    "G0 = G(torch.zeros(1,model.config.noiseVectorDim))\n",
    "d_image = G0.numel()\n",
    "x = G0.reshape(d_image)\n",
    "\n",
    "f = 0.2 #compression rate\n",
    "print('Compression rate is ', f)\n",
    "m_image = int(f*d_image)\n",
    "print('Number of measurements is ',m_image, ' for signal of length ', d_image)\n",
    "\n",
    "\n",
    "# random Gaussian measurement matrix : A\n",
    "A = torch.randn(m_image, d_image)\n",
    "y = torch.matmul(A,x)\n",
    "\n",
    "x_var = torch.zeros(d_image)\n",
    "y_var = torch.zeros(m_image)\n",
    "\n",
    "z = Variable(torch.randn(1,model.config.noiseVectorDim), requires_grad = True)\n",
    "print('start')\n",
    "# optimization min ||AG(z)-AG0||\n",
    "\n",
    "for t in range(10):\n",
    "    print('-' * 50)\n",
    "    \n",
    "    lr = 0.05\n",
    "    v = x - lr*torch.matmul(A.transpose(), torch.matmul(A,x)-y)\n",
    "    \n",
    "    # minimize ||G(z)-v||\n",
    "    optimizer = optim.Adam([z], lr=0.09)\n",
    "    for i in range(10):\n",
    "        optimizer.zero_grad()\n",
    "        loss = mse(G(z), v)\n",
    "        print(t, loss)\n",
    "        loss.backward(retain_graph=True)\n",
    "        optimizer.step()\n",
    "        print('end epoch')\n",
    "\n",
    "x_hat = G(z)\n",
    "#x_hat.reshape(x.size(0),x.size(1))\n",
    "grid = torchvision.utils.make_grid(x_hat.clamp(min=-1, max=1), scale_each=True, normalize=True)\n",
    "plt.imshow(grid.detach().permute(1, 2, 0).cpu().numpy())"
   ]
  },
  {
   "cell_type": "markdown",
   "metadata": {},
   "source": [
    "## A=I. Recover G0 (naive)"
   ]
  },
  {
   "cell_type": "code",
   "execution_count": null,
   "metadata": {},
   "outputs": [],
   "source": [
    "from torch.autograd import Variable\n",
    "import torch.optim as optim\n",
    "\n",
    "G = model.netG\n",
    "mse = torch.nn.MSELoss()\n",
    "\n",
    "\n",
    "\n",
    "G0 = G(torch.zeros(1,model.config.noiseVectorDim))\n",
    "\n",
    "z = Variable(torch.randn(1,model.config.noiseVectorDim), requires_grad = True)\n",
    "gen_image = G(z)\n",
    "grid = torchvision.utils.make_grid(gen_image.clamp(min=-1, max=1), scale_each=True, normalize=True)\n",
    "plt.imshow(grid.detach().permute(1, 2, 0).cpu().numpy())\n",
    "plt.show()\n",
    "\n",
    "\n",
    "optimizer = optim.Adam([z], lr=0.09)\n",
    "for t in range(10):\n",
    "    print('-' * 50)\n",
    "    optimizer.zero_grad()\n",
    "    x = G(z)\n",
    "    loss = mse(x,G0)\n",
    "    print(t, loss)\n",
    "    loss.backward(retain_graph=True)\n",
    "    optimizer.step()\n",
    "print('end epoch')\n",
    "    \n",
    "optimizer = optim.Adam([z], lr=0.06)\n",
    "for t in range(10): \n",
    "    print('-' * 50)\n",
    "    optimizer.zero_grad()\n",
    "    x = G(z)\n",
    "    loss = mse(x,G0)\n",
    "    print(t, loss)\n",
    "    loss.backward(retain_graph=True)\n",
    "    optimizer.step()\n",
    "print('end epoch')\n",
    "\n",
    "optimizer = optim.Adam([z], lr=0.03)\n",
    "for t in range(10): \n",
    "    print('-' * 50)\n",
    "    optimizer.zero_grad()\n",
    "    x = G(z)\n",
    "    loss = mse(x,G0)\n",
    "    print(t, loss)\n",
    "    loss.backward(retain_graph=True)\n",
    "    optimizer.step()\n",
    "print('end epoch')\n",
    "\n",
    "optimizer = optim.Adam([z], lr=0.01)\n",
    "for t in range(10): \n",
    "    print('-' * 50)\n",
    "    optimizer.zero_grad()\n",
    "    x = G(z)\n",
    "    loss = mse(x,G0)\n",
    "    print(t, loss)\n",
    "    loss.backward(retain_graph=True)\n",
    "    optimizer.step()\n"
   ]
  },
  {
   "cell_type": "code",
   "execution_count": null,
   "metadata": {},
   "outputs": [],
   "source": [
    "gen_image = G(z)\n",
    "\n",
    "\n",
    "grid = torchvision.utils.make_grid(gen_image.clamp(min=-1, max=1), scale_each=True, normalize=True)\n",
    "plt.imshow(grid.detach().permute(1, 2, 0).cpu().numpy())\n",
    "\n"
   ]
  },
  {
   "cell_type": "code",
   "execution_count": null,
   "metadata": {},
   "outputs": [],
   "source": [
    "import time\n",
    "import torch\n",
    "\n",
    "\n",
    "t0 = time.time()\n",
    "\n",
    "\n",
    "\n",
    "m = 5000\n",
    "d = 20000\n",
    "A = torch.randn(m,d)\n",
    "x = torch.randn(d)\n",
    "y = torch.matmul(A,x)\n",
    "print(y.size())\n",
    "\n",
    "\n",
    "\n",
    "\n",
    "t1 = time.time()\n",
    "print('\\ntime elapsed:',t1-t0)"
   ]
  },
  {
   "cell_type": "code",
   "execution_count": 1,
   "metadata": {},
   "outputs": [
    {
     "name": "stdout",
     "output_type": "stream",
     "text": [
      "\n",
      "time elapsed: 77.59119868278503\n"
     ]
    }
   ],
   "source": [
    "import time\n",
    "import torch\n",
    "\n",
    "t0 = time.time()\n",
    "\n",
    "x = torch.randn(50000)\n",
    "A = torch.randn(10000,50000)\n",
    "y = torch.matmul(A,x)\n",
    "\n",
    "t1 = time.time()\n",
    "print('\\ntime elapsed:',t1-t0)"
   ]
  },
  {
   "cell_type": "code",
   "execution_count": null,
   "metadata": {},
   "outputs": [],
   "source": []
  }
 ],
 "metadata": {
  "kernelspec": {
   "display_name": "Python 3",
   "language": "python",
   "name": "python3"
  },
  "language_info": {
   "codemirror_mode": {
    "name": "ipython",
    "version": 3
   },
   "file_extension": ".py",
   "mimetype": "text/x-python",
   "name": "python",
   "nbconvert_exporter": "python",
   "pygments_lexer": "ipython3",
   "version": "3.7.6"
  }
 },
 "nbformat": 4,
 "nbformat_minor": 4
}
