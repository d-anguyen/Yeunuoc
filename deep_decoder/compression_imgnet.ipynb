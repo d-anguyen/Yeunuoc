{
 "cells": [
  {
   "cell_type": "code",
   "execution_count": 4,
   "metadata": {},
   "outputs": [
    {
     "name": "stdout",
     "output_type": "stream",
     "text": [
      "num GPUs 0\n"
     ]
    }
   ],
   "source": [
    "from __future__ import print_function\n",
    "import matplotlib.pyplot as plt\n",
    "#%matplotlib notebook\n",
    "#import matplotlib.pyplot as plt\n",
    "import numpy as np\n",
    "import numbers\n",
    "import pywt\n",
    "import random\n",
    "import scipy\n",
    "import skimage.color as color\n",
    "from skimage.restoration import (denoise_wavelet, estimate_sigma)\n",
    "from skimage import data, img_as_float\n",
    "from skimage.util import random_noise\n",
    "from skimage.measure import compare_psnr\n",
    "import os\n",
    "from PIL import Image\n",
    "import PIL\n",
    "import warnings\n",
    "warnings.filterwarnings('ignore')\n",
    "import torch\n",
    "import torch.optim\n",
    "from torch.autograd import Variable\n",
    "\n",
    "from include import *\n",
    "\n",
    "torch.backends.cudnn.enabled = True\n",
    "torch.backends.cudnn.benchmark = True\n",
    "dtype = torch.cuda.FloatTensor\n",
    "os.environ['CUDA_VISIBLE_DEVICES'] = '0'\n",
    "print(\"num GPUs\",torch.cuda.device_count())\n",
    "#dtype = torch.FloatTensor"
   ]
  },
  {
   "cell_type": "code",
   "execution_count": 5,
   "metadata": {},
   "outputs": [
    {
     "ename": "FileNotFoundError",
     "evalue": "[Errno 2] No such file or directory: '../imagenet/ILSVRC2012_val_00020180.JPEG'",
     "output_type": "error",
     "traceback": [
      "\u001b[0;31m---------------------------------------------------------------------------\u001b[0m",
      "\u001b[0;31mFileNotFoundError\u001b[0m                         Traceback (most recent call last)",
      "\u001b[0;32m<ipython-input-5-1414c1e060d0>\u001b[0m in \u001b[0;36m<module>\u001b[0;34m\u001b[0m\n\u001b[0;32m----> 1\u001b[0;31m \u001b[0mimgs\u001b[0m \u001b[0;34m=\u001b[0m \u001b[0mget_imgnet_imgs\u001b[0m\u001b[0;34m(\u001b[0m\u001b[0mnum_samples\u001b[0m \u001b[0;34m=\u001b[0m \u001b[0;36m10\u001b[0m\u001b[0;34m,\u001b[0m \u001b[0mpath\u001b[0m \u001b[0;34m=\u001b[0m \u001b[0;34m'../imagenet/'\u001b[0m\u001b[0;34m)\u001b[0m\u001b[0;34m\u001b[0m\u001b[0;34m\u001b[0m\u001b[0m\n\u001b[0m",
      "\u001b[0;32m~/signal_recovery_decoder/include/helpers.py\u001b[0m in \u001b[0;36mget_imgnet_imgs\u001b[0;34m(num_samples, path, verbose)\u001b[0m\n\u001b[1;32m    155\u001b[0m         \u001b[0mimgnr_str\u001b[0m \u001b[0;34m=\u001b[0m \u001b[0mstr\u001b[0m\u001b[0;34m(\u001b[0m\u001b[0mimgnr\u001b[0m\u001b[0;34m)\u001b[0m\u001b[0;34m.\u001b[0m\u001b[0mzfill\u001b[0m\u001b[0;34m(\u001b[0m\u001b[0;36m8\u001b[0m\u001b[0;34m)\u001b[0m\u001b[0;34m\u001b[0m\u001b[0;34m\u001b[0m\u001b[0m\n\u001b[1;32m    156\u001b[0m         \u001b[0mimgname\u001b[0m \u001b[0;34m=\u001b[0m \u001b[0mpath\u001b[0m \u001b[0;34m+\u001b[0m \u001b[0;34m'ILSVRC2012_val_'\u001b[0m \u001b[0;34m+\u001b[0m \u001b[0mimgnr_str\u001b[0m \u001b[0;34m+\u001b[0m \u001b[0;34m\".JPEG\"\u001b[0m\u001b[0;34m\u001b[0m\u001b[0;34m\u001b[0m\u001b[0m\n\u001b[0;32m--> 157\u001b[0;31m         \u001b[0mimg\u001b[0m \u001b[0;34m=\u001b[0m \u001b[0mload_and_crop\u001b[0m\u001b[0;34m(\u001b[0m\u001b[0mimgname\u001b[0m\u001b[0;34m,\u001b[0m\u001b[0mtarget_width\u001b[0m\u001b[0;34m=\u001b[0m\u001b[0;36m512\u001b[0m\u001b[0;34m,\u001b[0m\u001b[0mtarget_height\u001b[0m\u001b[0;34m=\u001b[0m\u001b[0;36m512\u001b[0m\u001b[0;34m)\u001b[0m\u001b[0;34m\u001b[0m\u001b[0;34m\u001b[0m\u001b[0m\n\u001b[0m\u001b[1;32m    158\u001b[0m         \u001b[0;32mif\u001b[0m \u001b[0mimg\u001b[0m \u001b[0;32mis\u001b[0m \u001b[0;32mNone\u001b[0m\u001b[0;34m:\u001b[0m \u001b[0;31m# then the image could not be croped to 512x512\u001b[0m\u001b[0;34m\u001b[0m\u001b[0;34m\u001b[0m\u001b[0m\n\u001b[1;32m    159\u001b[0m             \u001b[0;32mcontinue\u001b[0m\u001b[0;34m\u001b[0m\u001b[0;34m\u001b[0m\u001b[0m\n",
      "\u001b[0;32m~/signal_recovery_decoder/include/helpers.py\u001b[0m in \u001b[0;36mload_and_crop\u001b[0;34m(imgname, target_width, target_height)\u001b[0m\n\u001b[1;32m     32\u001b[0m         \u001b[0mload\u001b[0m \u001b[0man\u001b[0m \u001b[0mimage\u001b[0m\u001b[0;34m,\u001b[0m \u001b[0;32mand\u001b[0m \u001b[0mcenter\u001b[0m\u001b[0;34m-\u001b[0m\u001b[0mcrop\u001b[0m \u001b[0;32mif\u001b[0m \u001b[0mthe\u001b[0m \u001b[0mimage\u001b[0m \u001b[0;32mis\u001b[0m \u001b[0mlarge\u001b[0m \u001b[0menough\u001b[0m\u001b[0;34m,\u001b[0m \u001b[0;32melse\u001b[0m \u001b[0;32mreturn\u001b[0m \u001b[0mnone\u001b[0m\u001b[0;34m\u001b[0m\u001b[0;34m\u001b[0m\u001b[0m\n\u001b[1;32m     33\u001b[0m \t'''\n\u001b[0;32m---> 34\u001b[0;31m         \u001b[0mimg\u001b[0m \u001b[0;34m=\u001b[0m \u001b[0mImage\u001b[0m\u001b[0;34m.\u001b[0m\u001b[0mopen\u001b[0m\u001b[0;34m(\u001b[0m\u001b[0mimgname\u001b[0m\u001b[0;34m)\u001b[0m\u001b[0;34m\u001b[0m\u001b[0;34m\u001b[0m\u001b[0m\n\u001b[0m\u001b[1;32m     35\u001b[0m         \u001b[0mwidth\u001b[0m\u001b[0;34m,\u001b[0m \u001b[0mheight\u001b[0m \u001b[0;34m=\u001b[0m \u001b[0mimg\u001b[0m\u001b[0;34m.\u001b[0m\u001b[0msize\u001b[0m\u001b[0;34m\u001b[0m\u001b[0;34m\u001b[0m\u001b[0m\n\u001b[1;32m     36\u001b[0m         \u001b[0;32mif\u001b[0m \u001b[0mwidth\u001b[0m \u001b[0;34m<=\u001b[0m \u001b[0mtarget_width\u001b[0m \u001b[0;32mor\u001b[0m \u001b[0mheight\u001b[0m \u001b[0;34m<=\u001b[0m \u001b[0mtarget_height\u001b[0m\u001b[0;34m:\u001b[0m\u001b[0;34m\u001b[0m\u001b[0;34m\u001b[0m\u001b[0m\n",
      "\u001b[0;32m/opt/conda/lib/python3.7/site-packages/PIL/Image.py\u001b[0m in \u001b[0;36mopen\u001b[0;34m(fp, mode)\u001b[0m\n\u001b[1;32m   2807\u001b[0m \u001b[0;34m\u001b[0m\u001b[0m\n\u001b[1;32m   2808\u001b[0m     \u001b[0;32mif\u001b[0m \u001b[0mfilename\u001b[0m\u001b[0;34m:\u001b[0m\u001b[0;34m\u001b[0m\u001b[0;34m\u001b[0m\u001b[0m\n\u001b[0;32m-> 2809\u001b[0;31m         \u001b[0mfp\u001b[0m \u001b[0;34m=\u001b[0m \u001b[0mbuiltins\u001b[0m\u001b[0;34m.\u001b[0m\u001b[0mopen\u001b[0m\u001b[0;34m(\u001b[0m\u001b[0mfilename\u001b[0m\u001b[0;34m,\u001b[0m \u001b[0;34m\"rb\"\u001b[0m\u001b[0;34m)\u001b[0m\u001b[0;34m\u001b[0m\u001b[0;34m\u001b[0m\u001b[0m\n\u001b[0m\u001b[1;32m   2810\u001b[0m         \u001b[0mexclusive_fp\u001b[0m \u001b[0;34m=\u001b[0m \u001b[0;32mTrue\u001b[0m\u001b[0;34m\u001b[0m\u001b[0;34m\u001b[0m\u001b[0m\n\u001b[1;32m   2811\u001b[0m \u001b[0;34m\u001b[0m\u001b[0m\n",
      "\u001b[0;31mFileNotFoundError\u001b[0m: [Errno 2] No such file or directory: '../imagenet/ILSVRC2012_val_00020180.JPEG'"
     ]
    }
   ],
   "source": [
    "imgs = get_imgnet_imgs(num_samples = 10, path = '../imagenet/')"
   ]
  },
  {
   "cell_type": "code",
   "execution_count": 4,
   "metadata": {},
   "outputs": [],
   "source": [
    "def rep_error_deep_decoder(img_np,net,convert2ycbcr=False,upsample_mode='bilinear'):\n",
    "    '''\n",
    "    mse obtained by representing img_np with the deep decoder\n",
    "    '''\n",
    "    output_depth = img_np.shape[0]\n",
    "    if output_depth == 3 and convert2ycbcr:\n",
    "        img = rgb2ycbcr(img_np)\n",
    "    else:\n",
    "        img = img_np\n",
    "    img_var = np_to_var(img).type(dtype)\n",
    "    \n",
    "    rnd = 500\n",
    "    numit = 10000\n",
    "    rn = 0.005\n",
    "    mse_n, mse_t, ni, net = fit( num_channels=num_channels,\n",
    "                        reg_noise_std=rn,\n",
    "                        reg_noise_decayevery = rnd,\n",
    "                        num_iter=numit,\n",
    "                        LR=0.004,\n",
    "                        img_noisy_var=img_var,\n",
    "                        net=net,\n",
    "                        img_clean_var=img_var,\n",
    "                        find_best=True,\n",
    "                        upsample_mode=upsample_mode,        \n",
    "                        )\n",
    "    out_img = net(ni.type(dtype)).data.cpu().numpy()[0]\n",
    "    if output_depth == 3 and convert2ycbcr:\n",
    "        out_img = ycbcr2rgb(out_img)\n",
    "    return psnr(out_img,img_np), out_img, num_param(net)\n",
    "\n",
    "output_depth=3"
   ]
  },
  {
   "cell_type": "markdown",
   "metadata": {},
   "source": [
    "## Experiments that keep the number of parameters constant"
   ]
  },
  {
   "cell_type": "code",
   "execution_count": 5,
   "metadata": {},
   "outputs": [],
   "source": [
    "def save_1d_list(li, filename):\n",
    "    li = np.array(li)\n",
    "    print(\"average and mean: \", np.mean(li),np.var(li))\n",
    "    np.savetxt(filename, li.T, delimiter=' ')"
   ]
  },
  {
   "cell_type": "code",
   "execution_count": 6,
   "metadata": {},
   "outputs": [
    {
     "name": "stdout",
     "output_type": "stream",
     "text": [
      "input shape:  [1, 16, 8, 8]\n",
      "optimize with adam 0.004\n",
      "24816tion 09990    Train loss 0.000209  Actual loss 0.000209 Actual loss orig 0.000209  Noise Energy 0.000000 \n",
      "input shape:  [1, 16, 8, 8]\n",
      "optimize with adam 0.004\n",
      "24816tion 09990    Train loss 0.001795  Actual loss 0.001795 Actual loss orig 0.001795  Noise Energy 0.000000 \n",
      "input shape:  [1, 16, 8, 8]\n",
      "optimize with adam 0.004\n",
      "24816tion 09990    Train loss 0.000161  Actual loss 0.000161 Actual loss orig 0.000161  Noise Energy 0.000000 \n",
      "input shape:  [1, 16, 8, 8]\n",
      "optimize with adam 0.004\n",
      "24816tion 09990    Train loss 0.000894  Actual loss 0.000894 Actual loss orig 0.000894  Noise Energy 0.000000 \n",
      "input shape:  [1, 16, 8, 8]\n",
      "optimize with adam 0.004\n",
      "24816tion 09990    Train loss 0.001250  Actual loss 0.001250 Actual loss orig 0.001250  Noise Energy 0.000000 \n",
      "input shape:  [1, 16, 8, 8]\n",
      "optimize with adam 0.004\n",
      "24816tion 09990    Train loss 0.000197  Actual loss 0.000197 Actual loss orig 0.000197  Noise Energy 0.000000 \n",
      "input shape:  [1, 16, 8, 8]\n",
      "optimize with adam 0.004\n",
      "24816tion 09990    Train loss 0.000534  Actual loss 0.000534 Actual loss orig 0.000534  Noise Energy 0.000000 \n",
      "input shape:  [1, 16, 8, 8]\n",
      "optimize with adam 0.004\n",
      "24816tion 09990    Train loss 0.000823  Actual loss 0.000823 Actual loss orig 0.000823  Noise Energy 0.000000 \n",
      "average and mean:  33.389355919247315 12.562456863782593\n"
     ]
    }
   ],
   "source": [
    "psnrs = []\n",
    "k = 16\n",
    "num_channels = [k]*5\n",
    "\n",
    "for img in imgs:\n",
    "    stride=2\n",
    "    padding = 1\n",
    "    net = deconv_decoder(output_depth,num_channels_up=num_channels,filter_size=4,stride=stride,padding=padding).type(dtype)\n",
    "    psnrv, out_img, nparam = rep_error_deep_decoder(img,net,upsample_mode=\"deconv\")\n",
    "    print(nparam)\n",
    "    psnrs.append(psnrv)\n",
    "\n",
    "save_1d_list(psnrs,\"imagenet_fit_psnrs_deconv16.dat\")"
   ]
  },
  {
   "cell_type": "code",
   "execution_count": null,
   "metadata": {},
   "outputs": [],
   "source": [
    "psnrs4 = []\n",
    "k = 64\n",
    "num_channels = [k]*5\n",
    "\n",
    "for img in imgs:\n",
    "    net = fixed_decodernw(output_depth,num_channels_up=num_channels).type(dtype)  \n",
    "    psnrv, out_img, nparamm = rep_error_deep_decoder(img,net,upsample_mode='none')\n",
    "    psnrs4.append(psnrv)\n",
    "\n",
    "save_1d_list(psnrs4,\"imagenet_fit_psnrs_gaussian_64.dat\")"
   ]
  },
  {
   "cell_type": "code",
   "execution_count": 9,
   "metadata": {},
   "outputs": [
    {
     "name": "stdout",
     "output_type": "stream",
     "text": [
      "25545\n",
      "average and mean:  31.867827675473922 24.267141197404392\n"
     ]
    }
   ],
   "source": [
    "psnrs5 = []\n",
    "nparam = 25545\n",
    "print(nparam)\n",
    "\n",
    "for img in imgs:\n",
    "    psnrv, out_img = rep_error_wavelet(img,ncoeff=int(nparam/output_depth))\n",
    "    psnrs5.append(psnrv)\n",
    "\n",
    "save_1d_list(psnrs5,\"imagenet_fit_psnrs_wavelet_1_64.dat\")"
   ]
  },
  {
   "cell_type": "code",
   "execution_count": 6,
   "metadata": {},
   "outputs": [
    {
     "name": "stdout",
     "output_type": "stream",
     "text": [
      "input shape:  [1, 64, 16, 16]\n",
      "optimize with adam 0.004\n",
      "25536tion 09990    Train loss 0.000484  Actual loss 0.000484 Actual loss orig 0.000484  Noise Energy 0.000000 \n",
      "input shape:  [1, 64, 16, 16]\n",
      "optimize with adam 0.004\n",
      "25536tion 09990    Train loss 0.000416  Actual loss 0.000416 Actual loss orig 0.000416  Noise Energy 0.000000 \n",
      "input shape:  [1, 64, 16, 16]\n",
      "optimize with adam 0.004\n",
      "25536tion 09990    Train loss 0.000166  Actual loss 0.000166 Actual loss orig 0.000166  Noise Energy 0.000000 \n",
      "input shape:  [1, 64, 16, 16]\n",
      "optimize with adam 0.004\n",
      "25536tion 09990    Train loss 0.001618  Actual loss 0.001618 Actual loss orig 0.001618  Noise Energy 0.000000 \n",
      "input shape:  [1, 64, 16, 16]\n",
      "optimize with adam 0.004\n",
      "25536tion 09990    Train loss 0.000101  Actual loss 0.000101 Actual loss orig 0.000101  Noise Energy 0.000000 \n",
      "input shape:  [1, 64, 16, 16]\n",
      "optimize with adam 0.004\n",
      "25536tion 09990    Train loss 0.000715  Actual loss 0.000715 Actual loss orig 0.000715  Noise Energy 0.000000 \n",
      "input shape:  [1, 64, 16, 16]\n",
      "optimize with adam 0.004\n",
      "25536tion 09990    Train loss 0.001113  Actual loss 0.001113 Actual loss orig 0.001113  Noise Energy 0.000000 \n",
      "input shape:  [1, 64, 16, 16]\n",
      "optimize with adam 0.004\n",
      "25536tion 09990    Train loss 0.000161  Actual loss 0.000161 Actual loss orig 0.000161  Noise Energy 0.000000 \n",
      "input shape:  [1, 64, 16, 16]\n",
      "optimize with adam 0.004\n",
      "25536tion 09990    Train loss 0.000432  Actual loss 0.000432 Actual loss orig 0.000432  Noise Energy 0.000000 \n",
      "input shape:  [1, 64, 16, 16]\n",
      "optimize with adam 0.004\n",
      "25536tion 09990    Train loss 0.000642  Actual loss 0.000642 Actual loss orig 0.000642  Noise Energy 0.000000 \n",
      "average and mean:  33.860346893849844 13.288698447723906\n"
     ]
    }
   ],
   "source": [
    "psnrs = []\n",
    "k = 64\n",
    "num_channels = [k]*5\n",
    "\n",
    "for img in imgs:\n",
    "    net = decodernw(output_depth,num_channels_up=num_channels).type(dtype)\n",
    "    psnrv, out_img, nparam = rep_error_deep_decoder(img,net)\n",
    "    print(nparam)\n",
    "    psnrs.append(psnrv)\n",
    "\n",
    "save_1d_list(psnrs,\"imagenet_fit_psnrs_up64.dat\")"
   ]
  }
 ],
 "metadata": {
  "kernelspec": {
   "display_name": "Python 3",
   "language": "python",
   "name": "python3"
  },
  "language_info": {
   "codemirror_mode": {
    "name": "ipython",
    "version": 3
   },
   "file_extension": ".py",
   "mimetype": "text/x-python",
   "name": "python",
   "nbconvert_exporter": "python",
   "pygments_lexer": "ipython3",
   "version": "3.7.6"
  }
 },
 "nbformat": 4,
 "nbformat_minor": 2
}
